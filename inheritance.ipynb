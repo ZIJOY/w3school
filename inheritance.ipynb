class Person:
  def __init__(self, fname, lname):
    self.firstname = fname
    self.lastname = lname

  def printname(self):
    print(self.firstname, self.lastname)

class Student(Person):
  pass

x = Student("Mike", "Olsen")
x.printname()

class Manush:
  def __init__(self, fname, lname):
    self.fname=fname
    self.lname = lname
    
  def fullname(self):
    print(self.fname  , self.lname)
y=Manush( 'Zahir', 'Joy')
y.fullname() 

class Muslim(Manush):
  pass
z = Muslim('Mazharul', "Islam")
z.fullname()
